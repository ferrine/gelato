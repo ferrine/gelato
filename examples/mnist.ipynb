{
 "cells": [
  {
   "cell_type": "markdown",
   "metadata": {},
   "source": [
    "# Bayesian neural networks\n",
    "## Gelato: PyMC3 and Lasagne bridge"
   ]
  },
  {
   "cell_type": "markdown",
   "metadata": {},
   "source": [
    "I was inspired by [@twieky](https://github.com/twiecki) and his great [post](http://twiecki.github.io/blog/2016/07/05/bayesian-deep-learning/) about bayesian neural networks. But I thought that that way of creating BNNs is not obvious and easy for people. That's why I decided to make a bridge for `PyMC3` and `Lasagne`."
   ]
  },
  {
   "cell_type": "code",
   "execution_count": 1,
   "metadata": {},
   "outputs": [
    {
     "name": "stderr",
     "output_type": "stream",
     "text": [
      "Using gpu device 0: Tesla K40m (CNMeM is enabled with initial size: 95.0% of memory, CuDNN 4007)\n"
     ]
    }
   ],
   "source": [
    "import matplotlib.pyplot as plt\n",
    "%matplotlib inline\n",
    "import gelato\n",
    "from gelato.layers.helper import get_output\n",
    "import lasagne.updates as updates\n",
    "import theano\n",
    "import theano.tensor as tt\n",
    "import numpy as np\n",
    "import lasagne\n",
    "import pymc3 as pm\n",
    "import warnings\n",
    "warnings.filterwarnings('ignore')"
   ]
  },
  {
   "cell_type": "markdown",
   "metadata": {},
   "source": [
    "I will use his convolution bnn from the post as an example of how to use gelato API\n",
    "## Load Data"
   ]
  },
  {
   "cell_type": "code",
   "execution_count": 4,
   "metadata": {},
   "outputs": [
    {
     "name": "stdout",
     "output_type": "stream",
     "text": [
      "Loading data...\n"
     ]
    }
   ],
   "source": [
    "import sys, os\n",
    "\n",
    "def load_dataset():\n",
    "    # We first define a download function, supporting both Python 2 and 3.\n",
    "    if sys.version_info[0] == 2:\n",
    "        from urllib import urlretrieve\n",
    "    else:\n",
    "        from urllib.request import urlretrieve\n",
    "\n",
    "    def download(filename, source='http://yann.lecun.com/exdb/mnist/'):\n",
    "        print(\"Downloading %s\" % filename)\n",
    "        urlretrieve(source + filename, filename)\n",
    "\n",
    "    # We then define functions for loading MNIST images and labels.\n",
    "    # For convenience, they also download the requested files if needed.\n",
    "    import gzip\n",
    "\n",
    "    def load_mnist_images(filename):\n",
    "        if not os.path.exists(filename):\n",
    "            download(filename)\n",
    "        # Read the inputs in Yann LeCun's binary format.\n",
    "        with gzip.open(filename, 'rb') as f:\n",
    "            data = np.frombuffer(f.read(), np.uint8, offset=16)\n",
    "        # The inputs are vectors now, we reshape them to monochrome 2D images,\n",
    "        # following the shape convention: (examples, channels, rows, columns)\n",
    "        data = data.reshape(-1, 1, 28, 28)\n",
    "        # The inputs come as bytes, we convert them to float32 in range [0,1].\n",
    "        # (Actually to range [0, 255/256], for compatibility to the version\n",
    "        # provided at http://deeplearning.net/data/mnist/mnist.pkl.gz.)\n",
    "        return data / np.float32(256)\n",
    "\n",
    "    def load_mnist_labels(filename):\n",
    "        if not os.path.exists(filename):\n",
    "            download(filename)\n",
    "        # Read the labels in Yann LeCun's binary format.\n",
    "        with gzip.open(filename, 'rb') as f:\n",
    "            data = np.frombuffer(f.read(), np.uint8, offset=8)\n",
    "        # The labels are vectors of integers now, that's exactly what we want.\n",
    "        return data\n",
    "\n",
    "    # We can now download and read the training and test set images and labels.\n",
    "    X_train = load_mnist_images('train-images-idx3-ubyte.gz')\n",
    "    y_train = load_mnist_labels('train-labels-idx1-ubyte.gz')\n",
    "    X_test = load_mnist_images('t10k-images-idx3-ubyte.gz')\n",
    "    y_test = load_mnist_labels('t10k-labels-idx1-ubyte.gz')\n",
    "\n",
    "    # We reserve the last 10000 training examples for validation.\n",
    "    X_train, X_val = X_train[:-10000], X_train[-10000:]\n",
    "    y_train, y_val = y_train[:-10000], y_train[-10000:]\n",
    "\n",
    "    # We just return all the arrays in order, as expected in main().\n",
    "    # (It doesn't matter how we do this as long as we can read them again.)\n",
    "    return X_train, y_train, X_val, y_val, X_test, y_test\n",
    "\n",
    "print(\"Loading data...\")\n",
    "X_train, y_train, X_val, y_val, X_test, y_test = load_dataset()\n",
    "total_size = X_train.shape[0]"
   ]
  },
  {
   "cell_type": "code",
   "execution_count": 5,
   "metadata": {},
   "outputs": [],
   "source": [
    "input_var = theano.shared(X_train.astype(np.float32))\n",
    "target_var = theano.shared(y_train.astype(np.float32))\n",
    "ridx = gelato.random.tt_rng().uniform(low=0, high=total_size-1e-16, size=(128,)).astype('int32')\n",
    "input_var=input_var[ridx]\n",
    "target_var=target_var[ridx]"
   ]
  },
  {
   "cell_type": "markdown",
   "metadata": {},
   "source": [
    "## Create priors for weights\n",
    "Gelato has a flexible way to define a prior on weight instead of just shared variable. That allows to deal with uncertanty in weights and in predictions as well. \n",
    "### Disclamer\n",
    "I have to note that Gelato has some overhead magic with wrappring lasagne layers. Espessially there is no need to use gelato layer if you pass gelato `Spec` class to lasagne layer to define a weight. But using them happens to be very convenient. There is a handy function `set_default_spec` that declares what prior to use if none specified."
   ]
  },
  {
   "cell_type": "markdown",
   "metadata": {},
   "source": [
    "## Hierarchical prior"
   ]
  },
  {
   "cell_type": "code",
   "execution_count": 6,
   "metadata": {},
   "outputs": [],
   "source": [
    "from gelato.specs import NormalSpec, LognormalSpec, set_default_spec\n",
    "# Now every layer without passed specs will use `NormalSpec(sd=hyper)` as a prior\n",
    "hyper = LognormalSpec(sd=1).with_shape(())\n",
    "set_default_spec(NormalSpec(sd=hyper))"
   ]
  },
  {
   "cell_type": "markdown",
   "metadata": {},
   "source": [
    "## Network"
   ]
  },
  {
   "cell_type": "code",
   "execution_count": 49,
   "metadata": {},
   "outputs": [],
   "source": [
    "with pm.Model() as model:\n",
    "    network = gelato.layers.InputLayer(shape=(None, 1, 28, 28),\n",
    "                                        input_var=input_var)\n",
    "\n",
    "    network = gelato.layers.Conv2DLayer(\n",
    "            network, num_filters=32, filter_size=(5, 5),\n",
    "            nonlinearity=lasagne.nonlinearities.tanh)\n",
    "\n",
    "    # Max-pooling layer of factor 2 in both dimensions:\n",
    "    network = gelato.layers.MaxPool2DLayer(network, pool_size=(2, 2))\n",
    "\n",
    "    # Another convolution with 32 5x5 kernels, and another 2x2 pooling:\n",
    "    network = gelato.layers.Conv2DLayer(\n",
    "        network, num_filters=32, filter_size=(5, 5),\n",
    "        nonlinearity=lasagne.nonlinearities.tanh)\n",
    "    \n",
    "    network = gelato.layers.MaxPool2DLayer(network, \n",
    "                                            pool_size=(2, 2))\n",
    "    \n",
    "    n_hid2 = 176\n",
    "    network = gelato.layers.DenseLayer(\n",
    "        network, num_units=n_hid2,\n",
    "        nonlinearity=lasagne.nonlinearities.tanh,\n",
    "    )\n",
    "    \n",
    "    n_hid3 = 64\n",
    "    network = gelato.layers.DenseLayer(\n",
    "        network, num_units=n_hid3,\n",
    "        nonlinearity=lasagne.nonlinearities.tanh,\n",
    "    )\n",
    "    \n",
    "    # Finally, we'll add the fully-connected output layer, of 10 softmax units:\n",
    "    network = gelato.layers.DenseLayer(\n",
    "        network, num_units=10,\n",
    "        nonlinearity=lasagne.nonlinearities.softmax,\n",
    "    )\n",
    "    \n",
    "    prediction = gelato.layers.get_output(network)\n",
    "    \n",
    "    likelihood = pm.Categorical('out', \n",
    "                   prediction,\n",
    "                   observed=target_var,\n",
    "                   total_size=total_size)"
   ]
  },
  {
   "cell_type": "markdown",
   "metadata": {},
   "source": [
    "$$ELBO=pi*KL[q(w|mu,rho)||p(w)] + E_q[log p(D|w)]$$"
   ]
  },
  {
   "cell_type": "markdown",
   "metadata": {},
   "source": [
    "Getting ELBO for model and optimizing it is quite easy and can be cone just in few lines. As we will perform batch training we have to say what population size we have for observed var or else we'll get invalid approximation."
   ]
  },
  {
   "cell_type": "code",
   "execution_count": 50,
   "metadata": {},
   "outputs": [
    {
     "data": {
      "text/plain": [
       "[Conv2DLayer_140365552325016_W:145_log__,\n",
       " Conv2DLayer_140365552325016_W,\n",
       " Conv2DLayer_140365552325016_b:149_log__,\n",
       " Conv2DLayer_140365552325016_b,\n",
       " Conv2DLayer_140365552325240_W:153_log__,\n",
       " Conv2DLayer_140365552325240_W,\n",
       " Conv2DLayer_140365552325240_b:157_log__,\n",
       " Conv2DLayer_140365552325240_b,\n",
       " DenseLayer_140365550068064_W:161_log__,\n",
       " DenseLayer_140365550068064_W,\n",
       " DenseLayer_140365550068064_b:165_log__,\n",
       " DenseLayer_140365550068064_b,\n",
       " DenseLayer_140365553311696_W:169_log__,\n",
       " DenseLayer_140365553311696_W,\n",
       " DenseLayer_140365553311696_b:173_log__,\n",
       " DenseLayer_140365553311696_b,\n",
       " DenseLayer_140365553342952_W:177_log__,\n",
       " DenseLayer_140365553342952_W,\n",
       " DenseLayer_140365553342952_b:181_log__,\n",
       " DenseLayer_140365553342952_b]"
      ]
     },
     "execution_count": 50,
     "metadata": {},
     "output_type": "execute_result"
    }
   ],
   "source": [
    "model.vars"
   ]
  },
  {
   "cell_type": "code",
   "execution_count": 51,
   "metadata": {
    "collapsed": true
   },
   "outputs": [],
   "source": [
    "with model:\n",
    "    advi = pm.ADVI()"
   ]
  },
  {
   "cell_type": "code",
   "execution_count": 53,
   "metadata": {},
   "outputs": [
    {
     "name": "stderr",
     "output_type": "stream",
     "text": [
      "Average Loss = 67.445: 100%|██████████| 60000/60000 [09:51<00:00, 101.39it/s]\n",
      "Finished [100%]: Average Loss = 67.383\n"
     ]
    },
    {
     "data": {
      "text/plain": [
       "<pymc3.variational.approximations.MeanField at 0x7fa9a38910b8>"
      ]
     },
     "execution_count": 53,
     "metadata": {},
     "output_type": "execute_result"
    }
   ],
   "source": [
    "advi.fit(60000)"
   ]
  },
  {
   "cell_type": "code",
   "execution_count": 9,
   "metadata": {},
   "outputs": [],
   "source": [
    "import pickle\n",
    "#params = advi.approx.shared_params\n",
    "#pickle.dump(params, open('params.pymc3','wb'))"
   ]
  },
  {
   "cell_type": "code",
   "execution_count": 10,
   "metadata": {
    "collapsed": true
   },
   "outputs": [],
   "source": [
    "#advi.approx.shared_params = pickle.load(open('params.pymc3','rb'))"
   ]
  },
  {
   "cell_type": "code",
   "execution_count": 54,
   "metadata": {
    "scrolled": false
   },
   "outputs": [
    {
     "data": {
      "image/png": "[encoded data removed]",
      "text/plain": [
       "<matplotlib.figure.Figure at 0x7fa9657abc18>"
      ]
     },
     "metadata": {},
     "output_type": "display_data"
    }
   ],
   "source": [
    "plt.figure(figsize=(16,9))\n",
    "plt.plot(np.array(advi.hist), alpha=.3);"
   ]
  },
  {
   "cell_type": "markdown",
   "metadata": {},
   "source": [
    "For getting uncertanty of our model there is a helper in `gelato.layers.get_output`. It will replace all nodes with gaussian optimization result or just means if `dererministic=True`"
   ]
  },
  {
   "cell_type": "code",
   "execution_count": 55,
   "metadata": {
    "collapsed": true
   },
   "outputs": [],
   "source": [
    "inpimg = tt.tensor4('input')\n",
    "inpimg.tag.test_value = X_test[0][None,...]\n",
    "it = tt.iscalar('i')\n",
    "it.tag.test_value = 10"
   ]
  },
  {
   "cell_type": "code",
   "execution_count": 56,
   "metadata": {},
   "outputs": [],
   "source": [
    "_prediction = gelato.layers.get_output(network)\n",
    "prediction = advi.approx.apply_replacements(_prediction, deterministic=True, more_replacements={input_var:inpimg})\n",
    "predictions = advi.approx.sample_node(_prediction, it, more_replacements={input_var:inpimg})"
   ]
  },
  {
   "cell_type": "code",
   "execution_count": 57,
   "metadata": {},
   "outputs": [],
   "source": [
    "predictions_f = theano.function([inpimg, theano.In(it, 's', 10)], predictions)\n",
    "prediction_f = theano.function([inpimg], prediction)"
   ]
  },
  {
   "cell_type": "code",
   "execution_count": 77,
   "metadata": {},
   "outputs": [],
   "source": [
    "errors = np.argmax(prediction_f(X_test), axis=1) != y_test\n",
    "y_pred = np.argmax(prediction_f(X_test), axis=1)\n",
    "sampled_preds = predictions_f(X_test)"
   ]
  },
  {
   "cell_type": "code",
   "execution_count": 78,
   "metadata": {},
   "outputs": [
    {
     "data": {
      "text/plain": [
       "0.041000000000000002"
      ]
     },
     "execution_count": 78,
     "metadata": {},
     "output_type": "execute_result"
    }
   ],
   "source": [
    "np.mean(errors)"
   ]
  },
  {
   "cell_type": "code",
   "execution_count": 79,
   "metadata": {},
   "outputs": [
    {
     "name": "stdout",
     "output_type": "stream",
     "text": [
      "true: 9 prediction: 4\n"
     ]
    },
    {
     "data": {
      "text/plain": [
       "<matplotlib.figure.Figure at 0x7fa989365ba8>"
      ]
     },
     "metadata": {},
     "output_type": "display_data"
    },
    {
     "data": {
      "image/png": "[encoded data removed]",
      "text/plain": [
       "<matplotlib.figure.Figure at 0x7fa9658d4550>"
      ]
     },
     "metadata": {},
     "output_type": "display_data"
    }
   ],
   "source": [
    "print('true:', y_test[errors][0],'prediction:', y_pred[errors][0])\n",
    "plt.gray();plt.matshow(X_test[errors][0][0]);plt.show()"
   ]
  },
  {
   "cell_type": "code",
   "execution_count": 80,
   "metadata": {},
   "outputs": [
    {
     "name": "stdout",
     "output_type": "stream",
     "text": [
      "true: 3 prediction: 8\n"
     ]
    },
    {
     "data": {
      "text/plain": [
       "<matplotlib.figure.Figure at 0x7fa9658ccc88>"
      ]
     },
     "metadata": {},
     "output_type": "display_data"
    },
    {
     "data": {
      "image/png": "[encoded data removed]",
      "text/plain": [
       "<matplotlib.figure.Figure at 0x7fa9658da710>"
      ]
     },
     "metadata": {},
     "output_type": "display_data"
    }
   ],
   "source": [
    "print('true:',y_test[errors][1],'prediction:', y_pred[errors][1])\n",
    "plt.gray();plt.matshow(X_test[errors][1][0]);plt.show()"
   ]
  },
  {
   "cell_type": "markdown",
   "metadata": {},
   "source": [
    "# Uncertanty\n",
    "Let's calculate average variance in correct pedictions and wrong predictions. I don't use Chi squared statistics to illustrate the difference as [@twieky](https://github.com/twiecki) did. But still, this picture gives an evidence that mistakes are done with more quantity of uncertanty and thus can be potentially treated as problebatic examples "
   ]
  },
  {
   "cell_type": "code",
   "execution_count": 81,
   "metadata": {
    "scrolled": true
   },
   "outputs": [
    {
     "data": {
      "text/plain": [
       "<matplotlib.legend.Legend at 0x7fa965a6bf28>"
      ]
     },
     "execution_count": 81,
     "metadata": {},
     "output_type": "execute_result"
    },
    {
     "data": {
      "image/png": "[encoded data removed]",
      "text/plain": [
       "<matplotlib.figure.Figure at 0x7fa985a34e80>"
      ]
     },
     "metadata": {},
     "output_type": "display_data"
    }
   ],
   "source": [
    "plt.plot(sampled_preds.var(0)[errors].mean(0), label='errors')\n",
    "plt.plot(sampled_preds.var(0)[~errors].mean(0), label='correct')\n",
    "plt.plot(sampled_preds.var(0).mean(0), label='all')\n",
    "plt.legend()"
   ]
  }
 ],
 "metadata": {
  "kernelspec": {
   "display_name": "Python 3",
   "language": "python",
   "name": "python3"
  },
  "language_info": {
   "codemirror_mode": {
    "name": "ipython",
    "version": 3
   },
   "file_extension": ".py",
   "mimetype": "text/x-python",
   "name": "python",
   "nbconvert_exporter": "python",
   "pygments_lexer": "ipython3",
   "version": "3.5.0"
  }
 },
 "nbformat": 4,
 "nbformat_minor": 1
}
